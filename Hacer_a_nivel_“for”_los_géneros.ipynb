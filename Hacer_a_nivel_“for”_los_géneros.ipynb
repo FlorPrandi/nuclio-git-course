{
  "nbformat": 4,
  "nbformat_minor": 0,
  "metadata": {
    "colab": {
      "provenance": [],
      "authorship_tag": "ABX9TyMWmDngZOo6yMRjL8S3XW/z",
      "include_colab_link": true
    },
    "kernelspec": {
      "name": "python3",
      "display_name": "Python 3"
    },
    "language_info": {
      "name": "python"
    }
  },
  "cells": [
    {
      "cell_type": "markdown",
      "metadata": {
        "id": "view-in-github",
        "colab_type": "text"
      },
      "source": [
        "<a href=\"https://colab.research.google.com/github/FlorPrandi/nuclio-git-course/blob/main/Hacer_a_nivel_%E2%80%9Cfor%E2%80%9D_los_g%C3%A9neros.ipynb\" target=\"_parent\"><img src=\"https://colab.research.google.com/assets/colab-badge.svg\" alt=\"Open In Colab\"/></a>"
      ]
    },
    {
      "cell_type": "code",
      "execution_count": null,
      "metadata": {
        "id": "PUk-LF7KJSzY"
      },
      "outputs": [],
      "source": [
        "import pandas as pd\n",
        "import numpy as np"
      ]
    },
    {
      "cell_type": "code",
      "source": [
        "from google.colab import drive\n",
        "drive.mount('/content/drive')"
      ],
      "metadata": {
        "colab": {
          "base_uri": "https://localhost:8080/"
        },
        "id": "ptlA9u4xJV29",
        "outputId": "bc4894ab-28a0-4a30-ce5b-ef01be8cec53"
      },
      "execution_count": null,
      "outputs": [
        {
          "output_type": "stream",
          "name": "stdout",
          "text": [
            "Mounted at /content/drive\n"
          ]
        }
      ]
    },
    {
      "cell_type": "code",
      "source": [
        "imdb = pd.read_csv('/content/drive/MyDrive/Nuclio/Limpieza de Datos/Clase 1/datasets/IMDB.csv',\n",
        "                   sep = ';', index_col = [0])"
      ],
      "metadata": {
        "id": "TY3wBvgiJXrV"
      },
      "execution_count": null,
      "outputs": []
    },
    {
      "cell_type": "code",
      "source": [
        "imdb2 = imdb.copy()"
      ],
      "metadata": {
        "id": "AxnY2xlaJZWg"
      },
      "execution_count": null,
      "outputs": []
    },
    {
      "cell_type": "code",
      "source": [
        "imdb2.drop_duplicates(inplace = True)"
      ],
      "metadata": {
        "id": "XF8TfPZBJZu1"
      },
      "execution_count": null,
      "outputs": []
    },
    {
      "cell_type": "code",
      "source": [
        "lista_generos = imdb2['genres'].str.split('|', expand = True)"
      ],
      "metadata": {
        "id": "SjTYMeYeJbsQ"
      },
      "execution_count": null,
      "outputs": []
    },
    {
      "cell_type": "code",
      "source": [
        "for i in lista_generos:\n",
        "  imdb2['genero_' + str(i)] = lista_generos[i]"
      ],
      "metadata": {
        "id": "Dx05RJ_JJeBi"
      },
      "execution_count": null,
      "outputs": []
    },
    {
      "cell_type": "code",
      "source": [
        "imdb2"
      ],
      "metadata": {
        "id": "ZY8bmsHzJr4o"
      },
      "execution_count": null,
      "outputs": []
    },
    {
      "cell_type": "code",
      "source": [
        "for i in lista_generos:\n",
        "  imdb2['genero_'+ str(i)].fillna('Sin genero',inplace=True)"
      ],
      "metadata": {
        "id": "Sb5ST2KcKKcp"
      },
      "execution_count": null,
      "outputs": []
    },
    {
      "cell_type": "code",
      "source": [
        "imdb2"
      ],
      "metadata": {
        "id": "rH-3L_T8Kgqr",
        "outputId": "65b4c756-e97a-4bc8-d9c3-0c81f9391dad",
        "colab": {
          "base_uri": "https://localhost:8080/",
          "height": 912
        }
      },
      "execution_count": null,
      "outputs": [
        {
          "output_type": "execute_result",
          "data": {
            "text/html": [
              "<div>\n",
              "<style scoped>\n",
              "    .dataframe tbody tr th:only-of-type {\n",
              "        vertical-align: middle;\n",
              "    }\n",
              "\n",
              "    .dataframe tbody tr th {\n",
              "        vertical-align: top;\n",
              "    }\n",
              "\n",
              "    .dataframe thead th {\n",
              "        text-align: right;\n",
              "    }\n",
              "</style>\n",
              "<table border=\"1\" class=\"dataframe\">\n",
              "  <thead>\n",
              "    <tr style=\"text-align: right;\">\n",
              "      <th></th>\n",
              "      <th>color</th>\n",
              "      <th>director_name</th>\n",
              "      <th>duration</th>\n",
              "      <th>gross</th>\n",
              "      <th>genres</th>\n",
              "      <th>movie_title</th>\n",
              "      <th>title_year</th>\n",
              "      <th>language</th>\n",
              "      <th>country</th>\n",
              "      <th>budget</th>\n",
              "      <th>imdb_score</th>\n",
              "      <th>actors</th>\n",
              "      <th>movie_facebook_likes</th>\n",
              "      <th>genero_0</th>\n",
              "      <th>genero_1</th>\n",
              "      <th>genero_2</th>\n",
              "      <th>genero_3</th>\n",
              "      <th>genero_4</th>\n",
              "    </tr>\n",
              "  </thead>\n",
              "  <tbody>\n",
              "    <tr>\n",
              "      <th>0</th>\n",
              "      <td>Color</td>\n",
              "      <td>Martin Scorsese</td>\n",
              "      <td>240</td>\n",
              "      <td>116866727.0</td>\n",
              "      <td>Biography|Comedy|Crime|Drama</td>\n",
              "      <td>The Wolf of Wall Street</td>\n",
              "      <td>2013</td>\n",
              "      <td>English</td>\n",
              "      <td>USA</td>\n",
              "      <td>100000000.0</td>\n",
              "      <td>8.2</td>\n",
              "      <td>Leonardo DiCaprio,Matthew McConaughey,Jon Favreau</td>\n",
              "      <td>138000</td>\n",
              "      <td>Biography</td>\n",
              "      <td>Comedy</td>\n",
              "      <td>Crime</td>\n",
              "      <td>Drama</td>\n",
              "      <td>Sin genero</td>\n",
              "    </tr>\n",
              "    <tr>\n",
              "      <th>1</th>\n",
              "      <td>Color</td>\n",
              "      <td>Shane Black</td>\n",
              "      <td>195</td>\n",
              "      <td>408992272.0</td>\n",
              "      <td>Action|Adventure|Sci-Fi</td>\n",
              "      <td>Iron Man 3</td>\n",
              "      <td>2013</td>\n",
              "      <td>English</td>\n",
              "      <td>USA</td>\n",
              "      <td>200000000.0</td>\n",
              "      <td>7.2</td>\n",
              "      <td>Robert Downey Jr.,Jon Favreau,Don Cheadle</td>\n",
              "      <td>95000</td>\n",
              "      <td>Action</td>\n",
              "      <td>Adventure</td>\n",
              "      <td>Sci-Fi</td>\n",
              "      <td>Sin genero</td>\n",
              "      <td>Sin genero</td>\n",
              "    </tr>\n",
              "    <tr>\n",
              "      <th>2</th>\n",
              "      <td>color</td>\n",
              "      <td>Quentin Tarantino</td>\n",
              "      <td>187</td>\n",
              "      <td>54116191.0</td>\n",
              "      <td>Crime|Drama|Mystery|Thriller|Western</td>\n",
              "      <td>The Hateful Eight</td>\n",
              "      <td>2015</td>\n",
              "      <td>English</td>\n",
              "      <td>USA</td>\n",
              "      <td>44000000.0</td>\n",
              "      <td>7.9</td>\n",
              "      <td>Craig Stark,Jennifer Jason Leigh,Zoë Bell</td>\n",
              "      <td>114000</td>\n",
              "      <td>Crime</td>\n",
              "      <td>Drama</td>\n",
              "      <td>Mystery</td>\n",
              "      <td>Thriller</td>\n",
              "      <td>Western</td>\n",
              "    </tr>\n",
              "    <tr>\n",
              "      <th>3</th>\n",
              "      <td>Color</td>\n",
              "      <td>Kenneth Lonergan</td>\n",
              "      <td>186</td>\n",
              "      <td>46495.0</td>\n",
              "      <td>Drama</td>\n",
              "      <td>Margaret</td>\n",
              "      <td>2011</td>\n",
              "      <td>English</td>\n",
              "      <td>usa</td>\n",
              "      <td>14000000.0</td>\n",
              "      <td>6.5</td>\n",
              "      <td>Matt Damon,Kieran Culkin,John Gallagher Jr.</td>\n",
              "      <td>0</td>\n",
              "      <td>Drama</td>\n",
              "      <td>Sin genero</td>\n",
              "      <td>Sin genero</td>\n",
              "      <td>Sin genero</td>\n",
              "      <td>Sin genero</td>\n",
              "    </tr>\n",
              "    <tr>\n",
              "      <th>4</th>\n",
              "      <td>Color</td>\n",
              "      <td>Peter Jackson</td>\n",
              "      <td>186</td>\n",
              "      <td>258355354.0</td>\n",
              "      <td>Adventure|Fantasy</td>\n",
              "      <td>The Hobbit: The Desolation of Smaug</td>\n",
              "      <td>2013</td>\n",
              "      <td>English</td>\n",
              "      <td>USA</td>\n",
              "      <td>225000000.0</td>\n",
              "      <td>7.9</td>\n",
              "      <td>Aidan Turner,Adam Brown,James Nesbitt</td>\n",
              "      <td>83000</td>\n",
              "      <td>Adventure</td>\n",
              "      <td>Fantasy</td>\n",
              "      <td>Sin genero</td>\n",
              "      <td>Sin genero</td>\n",
              "      <td>Sin genero</td>\n",
              "    </tr>\n",
              "    <tr>\n",
              "      <th>...</th>\n",
              "      <td>...</td>\n",
              "      <td>...</td>\n",
              "      <td>...</td>\n",
              "      <td>...</td>\n",
              "      <td>...</td>\n",
              "      <td>...</td>\n",
              "      <td>...</td>\n",
              "      <td>...</td>\n",
              "      <td>...</td>\n",
              "      <td>...</td>\n",
              "      <td>...</td>\n",
              "      <td>...</td>\n",
              "      <td>...</td>\n",
              "      <td>...</td>\n",
              "      <td>...</td>\n",
              "      <td>...</td>\n",
              "      <td>...</td>\n",
              "      <td>...</td>\n",
              "    </tr>\n",
              "    <tr>\n",
              "      <th>92</th>\n",
              "      <td>Color</td>\n",
              "      <td>Steve McQueen</td>\n",
              "      <td>134</td>\n",
              "      <td>56667870.0</td>\n",
              "      <td>Biography|Drama|History</td>\n",
              "      <td>12 Years a Slave</td>\n",
              "      <td>2013</td>\n",
              "      <td>English</td>\n",
              "      <td>USA</td>\n",
              "      <td>20000000.0</td>\n",
              "      <td>8.1</td>\n",
              "      <td>Quvenzhané Wallis,Scoot McNairy,Taran Killam</td>\n",
              "      <td>83000</td>\n",
              "      <td>Biography</td>\n",
              "      <td>Drama</td>\n",
              "      <td>History</td>\n",
              "      <td>Sin genero</td>\n",
              "      <td>Sin genero</td>\n",
              "    </tr>\n",
              "    <tr>\n",
              "      <th>93</th>\n",
              "      <td>Color</td>\n",
              "      <td>Richard J. Lewis</td>\n",
              "      <td>134</td>\n",
              "      <td>7501404.0</td>\n",
              "      <td>Comedy|Drama</td>\n",
              "      <td>Barney's Version</td>\n",
              "      <td>2010</td>\n",
              "      <td>English</td>\n",
              "      <td>Canada</td>\n",
              "      <td>NaN</td>\n",
              "      <td>7.3</td>\n",
              "      <td>Mark Addy,Atom Egoyan,Paul Gross</td>\n",
              "      <td>0</td>\n",
              "      <td>Comedy</td>\n",
              "      <td>Drama</td>\n",
              "      <td>Sin genero</td>\n",
              "      <td>Sin genero</td>\n",
              "      <td>Sin genero</td>\n",
              "    </tr>\n",
              "    <tr>\n",
              "      <th>94</th>\n",
              "      <td>Color</td>\n",
              "      <td>Paul Greengrass</td>\n",
              "      <td>134</td>\n",
              "      <td>107100855.0</td>\n",
              "      <td>Biography|Drama|Thriller</td>\n",
              "      <td>Captain Phillips</td>\n",
              "      <td>2013</td>\n",
              "      <td>English</td>\n",
              "      <td>USA</td>\n",
              "      <td>55000000.0</td>\n",
              "      <td>7.9</td>\n",
              "      <td>Tom Hanks,Chris Mulkey,Michael Chernus</td>\n",
              "      <td>65000</td>\n",
              "      <td>Biography</td>\n",
              "      <td>Drama</td>\n",
              "      <td>Thriller</td>\n",
              "      <td>Sin genero</td>\n",
              "      <td>Sin genero</td>\n",
              "    </tr>\n",
              "    <tr>\n",
              "      <th>95</th>\n",
              "      <td>Color</td>\n",
              "      <td>David Ayer</td>\n",
              "      <td>134</td>\n",
              "      <td>85707116.0</td>\n",
              "      <td>Action|Drama|War</td>\n",
              "      <td>Fury</td>\n",
              "      <td>2014</td>\n",
              "      <td>English</td>\n",
              "      <td>USA</td>\n",
              "      <td>68000000.0</td>\n",
              "      <td>7.6</td>\n",
              "      <td>Brad Pitt,Logan Lerman,Jim Parrack</td>\n",
              "      <td>82000</td>\n",
              "      <td>Action</td>\n",
              "      <td>Drama</td>\n",
              "      <td>War</td>\n",
              "      <td>Sin genero</td>\n",
              "      <td>Sin genero</td>\n",
              "    </tr>\n",
              "    <tr>\n",
              "      <th>96</th>\n",
              "      <td>Color</td>\n",
              "      <td>Clint Eastwood</td>\n",
              "      <td>5</td>\n",
              "      <td>47034272.0</td>\n",
              "      <td>Biography|Drama|Music|Musical</td>\n",
              "      <td>Jersey Boys</td>\n",
              "      <td>2014</td>\n",
              "      <td>English</td>\n",
              "      <td>USA</td>\n",
              "      <td>40000000.0</td>\n",
              "      <td>6.9</td>\n",
              "      <td>Johnny Cannizzaro,Steve Schirripa,Scott Vance</td>\n",
              "      <td>16000</td>\n",
              "      <td>Biography</td>\n",
              "      <td>Drama</td>\n",
              "      <td>Music</td>\n",
              "      <td>Musical</td>\n",
              "      <td>Sin genero</td>\n",
              "    </tr>\n",
              "  </tbody>\n",
              "</table>\n",
              "<p>91 rows × 18 columns</p>\n",
              "</div>"
            ],
            "text/plain": [
              "     color      director_name  duration  ...    genero_2    genero_3    genero_4\n",
              "0    Color    Martin Scorsese       240  ...       Crime       Drama  Sin genero\n",
              "1    Color        Shane Black       195  ...      Sci-Fi  Sin genero  Sin genero\n",
              "2   color   Quentin Tarantino       187  ...     Mystery    Thriller     Western\n",
              "3    Color   Kenneth Lonergan       186  ...  Sin genero  Sin genero  Sin genero\n",
              "4    Color      Peter Jackson       186  ...  Sin genero  Sin genero  Sin genero\n",
              "..     ...                ...       ...  ...         ...         ...         ...\n",
              "92   Color      Steve McQueen       134  ...     History  Sin genero  Sin genero\n",
              "93   Color   Richard J. Lewis       134  ...  Sin genero  Sin genero  Sin genero\n",
              "94   Color    Paul Greengrass       134  ...    Thriller  Sin genero  Sin genero\n",
              "95   Color         David Ayer       134  ...         War  Sin genero  Sin genero\n",
              "96   Color     Clint Eastwood         5  ...       Music     Musical  Sin genero\n",
              "\n",
              "[91 rows x 18 columns]"
            ]
          },
          "metadata": {},
          "execution_count": 11
        }
      ]
    }
  ]
}